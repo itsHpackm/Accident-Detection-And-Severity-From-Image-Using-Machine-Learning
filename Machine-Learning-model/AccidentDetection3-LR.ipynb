{
 "cells": [
  {
   "cell_type": "code",
   "execution_count": 39,
   "metadata": {},
   "outputs": [],
   "source": [
    "import random\n",
    "import os\n",
    "import cv2\n",
    "import pickle \n",
    "import pandas as pd\n",
    "import matplotlib.pyplot as plt\n",
    "import numpy as np \n",
    "from sklearn.model_selection import train_test_split   \n",
    "import warnings\n",
    "warnings.filterwarnings('ignore')"
   ]
  },
  {
   "cell_type": "code",
   "execution_count": 40,
   "metadata": {},
   "outputs": [],
   "source": [
    "def create_data(CATEGORIES,DATADIR,IMG_SIZE):## chargement du dataset(ensembles des images 'with-accident' et 'without-accident')\n",
    "    data = []\n",
    "    for category in CATEGORIES:  \n",
    "        path = os.path.join(DATADIR,category)\n",
    "        class_num = CATEGORIES.index(category)  \n",
    "        for img in os.listdir(path):   \n",
    "            try:\n",
    "                img_array = cv2.imread(os.path.join(path,img))   \n",
    "                img_array = cv2.resize(img_array, (IMG_SIZE, IMG_SIZE))  \n",
    "                data.append([img_array, class_num])  \n",
    "            except Exception as e:  \n",
    "                pass\n",
    "    return data "
   ]
  },
  {
   "cell_type": "code",
   "execution_count": 41,
   "metadata": {},
   "outputs": [
    {
     "name": "stdout",
     "output_type": "stream",
     "text": [
      "training_data : 1621\n"
     ]
    }
   ],
   "source": [
    "IMG_SIZE = 300 \n",
    "cat = ['Accident','No Accident']\n",
    "data_path = 'C:/dataV3/'\n",
    "\n",
    "data = create_data(cat, data_path, IMG_SIZE)\n",
    "\n",
    "print(\"training_data :\",len(data)) "
   ]
  },
  {
   "cell_type": "code",
   "execution_count": 42,
   "metadata": {},
   "outputs": [],
   "source": [
    "#séparation des images et leurs labels\n",
    "def lebalization(data):\n",
    "    random.shuffle(data) \n",
    "    X = []\n",
    "    y = []\n",
    "    for features,label in data:\n",
    "        X.append(features)\n",
    "        y.append(label)\n",
    "    return  X,y"
   ]
  },
  {
   "cell_type": "code",
   "execution_count": 43,
   "metadata": {},
   "outputs": [],
   "source": [
    "X,y = lebalization(data) "
   ]
  },
  {
   "cell_type": "code",
   "execution_count": 44,
   "metadata": {},
   "outputs": [],
   "source": [
    "lenofimage = len(data)"
   ]
  },
  {
   "cell_type": "code",
   "execution_count": 45,
   "metadata": {},
   "outputs": [],
   "source": [
    "#normalization des images \n",
    "X= np.array(X).reshape(lenofimage,-1) \n",
    "y= np.array(y)"
   ]
  },
  {
   "cell_type": "code",
   "execution_count": 46,
   "metadata": {},
   "outputs": [],
   "source": [
    "x_train, x_test,y_train, y_test=train_test_split(X,y,test_size=0.2)  "
   ]
  },
  {
   "cell_type": "code",
   "execution_count": 47,
   "metadata": {},
   "outputs": [],
   "source": [
    "x_train, x_test = x_train / 255.0, x_test / 255.0"
   ]
  },
  {
   "cell_type": "code",
   "execution_count": 54,
   "metadata": {},
   "outputs": [],
   "source": [
    "from sklearn.linear_model import LogisticRegression \n",
    "logistic_regression=LogisticRegression(random_state=60) "
   ]
  },
  {
   "cell_type": "code",
   "execution_count": 55,
   "metadata": {},
   "outputs": [
    {
     "data": {
      "text/plain": [
       "LogisticRegression(random_state=60)"
      ]
     },
     "execution_count": 55,
     "metadata": {},
     "output_type": "execute_result"
    }
   ],
   "source": [
    "logistic_regression.fit(x_train,y_train)"
   ]
  },
  {
   "cell_type": "code",
   "execution_count": 56,
   "metadata": {},
   "outputs": [
    {
     "data": {
      "text/plain": [
       "0.6923076923076923"
      ]
     },
     "execution_count": 56,
     "metadata": {},
     "output_type": "execute_result"
    }
   ],
   "source": [
    "logistic_regression.score(x_test,y_test)"
   ]
  },
  {
   "cell_type": "code",
   "execution_count": 57,
   "metadata": {},
   "outputs": [],
   "source": [
    "import itertools\n",
    "from sklearn.metrics import classification_report\n",
    "from sklearn.metrics import accuracy_score\n",
    "from sklearn.metrics import precision_score\n",
    "from sklearn.metrics import recall_score\n",
    "from sklearn.metrics import f1_score\n",
    "from sklearn.metrics import roc_curve\n",
    "from sklearn.metrics import roc_auc_score\n",
    "from sklearn.metrics import confusion_matrix\n",
    "import numpy as np\n",
    "\n",
    "def plot_confusion_matrix(cm, classes,\n",
    "                          normalize=False,\n",
    "                          title='Confusion matrix',\n",
    "                          cmap=plt.cm.Blues):\n",
    "    plt.imshow(cm, interpolation='nearest', cmap=cmap)\n",
    "    plt.title(title)\n",
    "    plt.colorbar()\n",
    "    tick_marks = np.arange(len(classes))\n",
    "    plt.xticks(tick_marks, classes, rotation=0)\n",
    "    plt.yticks(tick_marks, classes)\n",
    "\n",
    "    if normalize:\n",
    "        cm = cm.astype('float') / cm.sum(axis=1)[:, np.newaxis] \n",
    "    else:\n",
    "        1 \n",
    "    thresh = cm.max() / 2.\n",
    "    for i, j in itertools.product(range(cm.shape[0]), range(cm.shape[1])):\n",
    "        plt.text(j, i, cm[i, j],\n",
    "                 horizontalalignment=\"center\",\n",
    "                 color=\"white\" if cm[i, j] > thresh else \"black\")\n",
    "\n",
    "    plt.tight_layout()\n",
    "    plt.ylabel('True label')\n",
    "    plt.xlabel('Predicted label')\n",
    "\n",
    "# Function to calculate accuracy \n",
    "def cal_accuracy(logistic_regression,X_test,y_test): \n",
    "    y_pred = logistic_regression.predict(X_test)\n",
    "    y_pred = np.round(y_pred)\n",
    "    print (\"Accuracy : \", round(accuracy_score(y_test,y_pred)*100,2))\n",
    "    print (\"Precision : \", round(precision_score(y_test,y_pred)*100,2))\n",
    "    print (\"Sensitivity / Recall : \", round(recall_score(y_test,y_pred)*100,2))\n",
    "    print (\"F1_score : \", round(f1_score(y_test,y_pred)*100,2)) \n",
    "    cnf_matrix_tra = confusion_matrix(y_test, y_pred)\n",
    "    class_names = [0,1]\n",
    "    plt.figure()\n",
    "    plot_confusion_matrix(cnf_matrix_tra , classes=class_names, title='Confusion matrix')\n",
    "    plt.show()\n",
    "    print(\"Report : \") \n",
    "    print(classification_report(digits=6,y_true=y_test, y_pred=y_pred)) "
   ]
  },
  {
   "cell_type": "code",
   "execution_count": 58,
   "metadata": {},
   "outputs": [
    {
     "name": "stdout",
     "output_type": "stream",
     "text": [
      "Accuracy :  69.23\n",
      "Precision :  65.43\n",
      "Sensitivity / Recall :  77.85\n",
      "F1_score :  71.1\n"
     ]
    },
    {
     "data": {
      "image/png": "[encoded data removed]",
      "text/plain": [
       "<Figure size 432x288 with 2 Axes>"
      ]
     },
     "metadata": {
      "needs_background": "light"
     },
     "output_type": "display_data"
    },
    {
     "name": "stdout",
     "output_type": "stream",
     "text": [
      "Report : \n",
      "              precision    recall  f1-score   support\n",
      "\n",
      "           0   0.744526  0.610778  0.671053       167\n",
      "           1   0.654255  0.778481  0.710983       158\n",
      "\n",
      "    accuracy                       0.692308       325\n",
      "   macro avg   0.699390  0.694630  0.691018       325\n",
      "weighted avg   0.700640  0.692308  0.690465       325\n",
      "\n"
     ]
    }
   ],
   "source": [
    "cal_accuracy(logistic_regression,x_test, y_test)"
   ]
  },
  {
   "cell_type": "code",
   "execution_count": 60,
   "metadata": {},
   "outputs": [
    {
     "data": {
      "image/png": "[encoded data removed]",
      "text/plain": [
       "<Figure size 432x288 with 1 Axes>"
      ]
     },
     "metadata": {
      "needs_background": "light"
     },
     "output_type": "display_data"
    }
   ],
   "source": [
    "import sklearn.metrics as metrics\n",
    "probs = logistic_regression.predict(x_test)\n",
    "#preds = probs[:,1]\n",
    "fpr, tpr, threshold = metrics.roc_curve(y_test, probs)\n",
    "roc_auc = metrics.auc(fpr, tpr)\n",
    "\n",
    "# method I: plt\n",
    "import matplotlib.pyplot as plt\n",
    "plt.title('Receiver Operating Characteristic')\n",
    "plt.plot(fpr, tpr, 'b', label = 'AUC = %0.2f' % roc_auc)\n",
    "plt.legend(loc = 'lower right')\n",
    "plt.plot([0, 1], [0, 1],'r--')\n",
    "plt.xlim([0, 1])\n",
    "plt.ylim([0, 1])\n",
    "plt.ylabel('True Positive Rate')\n",
    "plt.xlabel('False Positive Rate')\n",
    "plt.show() "
   ]
  },
  {
   "cell_type": "code",
   "execution_count": null,
   "metadata": {},
   "outputs": [],
   "source": [
    "url=input('Enter URL of Image :')\n",
    "CAT = ['Accident','No Accident']\n",
    " \n",
    "    \n",
    "#img=imread(url)\n",
    "img=cv2.imread(url)\n",
    "plt.imshow(img) \n",
    "img_resize = cv2.resize(img, (300, 300))  \n",
    "l=[img_resize.flatten()]\n",
    "\n",
    "y_predicted = model.predict(l)\n",
    "print(y_predicted[0]) \n",
    "print(\"car\",CAT[int(y_predicted[0])]) "
   ]
  },
  {
   "cell_type": "code",
   "execution_count": null,
   "metadata": {},
   "outputs": [],
   "source": [
    "url=input('Enter URL of Image :')\n",
    "\n",
    "\n",
    "img=cv2.imread(url)\n",
    "plt.imshow(img)\n",
    "plt.show()\n",
    "img_resize=cv2.resize(img,(300, 300))\n",
    "l=[img_resize.flatten()]\n",
    "pred=model.predict(l)\n",
    "for ind,val in enumerate(cat):\n",
    "    print(f'{val} = {pred[0]*100}%')\n",
    "print(\"The predicted image is : \"+Categories[model.predict(l)[0]])"
   ]
  },
  {
   "cell_type": "code",
   "execution_count": 19,
   "metadata": {},
   "outputs": [],
   "source": [
    "pickle.dump(logistic_regression, open('Model_LR_69%.pickle', 'wb'))"
   ]
  },
  {
   "cell_type": "code",
   "execution_count": 20,
   "metadata": {},
   "outputs": [],
   "source": [
    "md = pickle.load(open('Model_LR_69%.pickle', 'rb'))"
   ]
  },
  {
   "cell_type": "markdown",
   "metadata": {},
   "source": []
  }
 ],
 "metadata": {
  "kernelspec": {
   "display_name": "Python 3",
   "language": "python",
   "name": "python3"
  },
  "language_info": {
   "codemirror_mode": {
    "name": "ipython",
    "version": 3
   },
   "file_extension": ".py",
   "mimetype": "text/x-python",
   "name": "python",
   "nbconvert_exporter": "python",
   "pygments_lexer": "ipython3",
   "version": "3.8.5"
  }
 },
 "nbformat": 4,
 "nbformat_minor": 2
}
